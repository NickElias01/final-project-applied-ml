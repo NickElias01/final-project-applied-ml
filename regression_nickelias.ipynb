{
 "cells": [
  {
   "cell_type": "markdown",
   "id": "24c24776",
   "metadata": {},
   "source": [
    "### Applied Machine Learning Midterm Project\n",
    "### Nick Elias\n",
    "\n",
    "* CSIS 44670-81\n",
    "* Date: 4/18/2025"
   ]
  },
  {
   "cell_type": "markdown",
   "id": "242325b5",
   "metadata": {},
   "source": [
    "### Overview\n",
    "\n",
    "- Businesses and organizations often need to understand the relationships between different factors to make better decisions.  \n",
    "    - For example, a company may want to predict the fuel efficiency of a car based on its weight and engine size or estimate home prices based on square footage and location.  \n",
    "- Regression analysis helps identify and quantify these relationships between numerical features, providing insights that can be used for forecasting and decision-making.  \n",
    "\n",
    "This project demonstrates your ability to apply regression modeling techniques to a real-world dataset. You will:  \n",
    "- Load and explore a dataset.  \n",
    "- Choose and justify features for predicting a target variable.  \n",
    "- Train a regression model and evaluate performance.  \n",
    "- Compare multiple regression approaches.  \n",
    "- Document your work in a structured Jupyter Notebook.  \n",
    "- Conduct a peer review of a classmate's project.  "
   ]
  },
  {
   "cell_type": "markdown",
   "id": "1fccc959",
   "metadata": {},
   "source": [
    "# Introduction"
   ]
  },
  {
   "cell_type": "code",
   "execution_count": 17,
   "id": "ec77d972",
   "metadata": {},
   "outputs": [],
   "source": [
    "# Standard libraries\n",
    "import os\n",
    "import pandas as pd\n",
    "\n",
    "# Visualization\n",
    "import matplotlib.pyplot as plt\n",
    "import seaborn as sns\n",
    "\n",
    "# Machine Learning - Preprocessing\n",
    "from sklearn.preprocessing import (\n",
    "    LabelEncoder,\n",
    "    OneHotEncoder\n",
    ")\n",
    "\n",
    "# Machine Learning - Model Selection\n",
    "from sklearn.model_selection import (\n",
    "    train_test_split,\n",
    "    cross_val_score\n",
    ")\n",
    "\n",
    "# Machine Learning - Models\n",
    "from sklearn.ensemble import RandomForestClassifier\n",
    "from sklearn.tree import (\n",
    "    DecisionTreeClassifier,\n",
    "    plot_tree\n",
    ")\n",
    "\n",
    "# Machine Learning - Metrics\n",
    "from sklearn.metrics import (\n",
    "    accuracy_score,\n",
    "    precision_score,\n",
    "    recall_score,\n",
    "    f1_score,\n",
    "    confusion_matrix,\n",
    "    ConfusionMatrixDisplay,\n",
    "    classification_report\n",
    ")"
   ]
  },
  {
   "cell_type": "markdown",
   "id": "a0105809",
   "metadata": {},
   "source": [
    "Section 1. Import and Inspect the Data\n",
    "1.1 Load the dataset and display the first 10 rows.\n",
    "1.2 Check for missing values and display summary statistics.\n",
    "Reflection 1: What do you notice about the dataset? Are there any data issues?"
   ]
  },
  {
   "cell_type": "code",
   "execution_count": 18,
   "id": "9acab14e",
   "metadata": {},
   "outputs": [
    {
     "name": "stdout",
     "output_type": "stream",
     "text": [
      "First 10 rows of the dataset:\n",
      "   Id  MSSubClass MSZoning  LotFrontage  LotArea Street Alley LotShape  \\\n",
      "0   1          60       RL         65.0     8450   Pave   NaN      Reg   \n",
      "1   2          20       RL         80.0     9600   Pave   NaN      Reg   \n",
      "2   3          60       RL         68.0    11250   Pave   NaN      IR1   \n",
      "3   4          70       RL         60.0     9550   Pave   NaN      IR1   \n",
      "4   5          60       RL         84.0    14260   Pave   NaN      IR1   \n",
      "5   6          50       RL         85.0    14115   Pave   NaN      IR1   \n",
      "6   7          20       RL         75.0    10084   Pave   NaN      Reg   \n",
      "7   8          60       RL          NaN    10382   Pave   NaN      IR1   \n",
      "8   9          50       RM         51.0     6120   Pave   NaN      Reg   \n",
      "9  10         190       RL         50.0     7420   Pave   NaN      Reg   \n",
      "\n",
      "  LandContour Utilities LotConfig LandSlope Neighborhood Condition1  \\\n",
      "0         Lvl    AllPub    Inside       Gtl      CollgCr       Norm   \n",
      "1         Lvl    AllPub       FR2       Gtl      Veenker      Feedr   \n",
      "2         Lvl    AllPub    Inside       Gtl      CollgCr       Norm   \n",
      "3         Lvl    AllPub    Corner       Gtl      Crawfor       Norm   \n",
      "4         Lvl    AllPub       FR2       Gtl      NoRidge       Norm   \n",
      "5         Lvl    AllPub    Inside       Gtl      Mitchel       Norm   \n",
      "6         Lvl    AllPub    Inside       Gtl      Somerst       Norm   \n",
      "7         Lvl    AllPub    Corner       Gtl       NWAmes       PosN   \n",
      "8         Lvl    AllPub    Inside       Gtl      OldTown     Artery   \n",
      "9         Lvl    AllPub    Corner       Gtl      BrkSide     Artery   \n",
      "\n",
      "  Condition2 BldgType HouseStyle  OverallQual  OverallCond  YearBuilt  \\\n",
      "0       Norm     1Fam     2Story            7            5       2003   \n",
      "1       Norm     1Fam     1Story            6            8       1976   \n",
      "2       Norm     1Fam     2Story            7            5       2001   \n",
      "3       Norm     1Fam     2Story            7            5       1915   \n",
      "4       Norm     1Fam     2Story            8            5       2000   \n",
      "5       Norm     1Fam     1.5Fin            5            5       1993   \n",
      "6       Norm     1Fam     1Story            8            5       2004   \n",
      "7       Norm     1Fam     2Story            7            6       1973   \n",
      "8       Norm     1Fam     1.5Fin            7            5       1931   \n",
      "9     Artery   2fmCon     1.5Unf            5            6       1939   \n",
      "\n",
      "   YearRemodAdd RoofStyle RoofMatl Exterior1st Exterior2nd MasVnrType  \\\n",
      "0          2003     Gable  CompShg     VinylSd     VinylSd    BrkFace   \n",
      "1          1976     Gable  CompShg     MetalSd     MetalSd        NaN   \n",
      "2          2002     Gable  CompShg     VinylSd     VinylSd    BrkFace   \n",
      "3          1970     Gable  CompShg     Wd Sdng     Wd Shng        NaN   \n",
      "4          2000     Gable  CompShg     VinylSd     VinylSd    BrkFace   \n",
      "5          1995     Gable  CompShg     VinylSd     VinylSd        NaN   \n",
      "6          2005     Gable  CompShg     VinylSd     VinylSd      Stone   \n",
      "7          1973     Gable  CompShg     HdBoard     HdBoard      Stone   \n",
      "8          1950     Gable  CompShg     BrkFace     Wd Shng        NaN   \n",
      "9          1950     Gable  CompShg     MetalSd     MetalSd        NaN   \n",
      "\n",
      "   MasVnrArea ExterQual ExterCond Foundation BsmtQual BsmtCond BsmtExposure  \\\n",
      "0       196.0        Gd        TA      PConc       Gd       TA           No   \n",
      "1         0.0        TA        TA     CBlock       Gd       TA           Gd   \n",
      "2       162.0        Gd        TA      PConc       Gd       TA           Mn   \n",
      "3         0.0        TA        TA     BrkTil       TA       Gd           No   \n",
      "4       350.0        Gd        TA      PConc       Gd       TA           Av   \n",
      "5         0.0        TA        TA       Wood       Gd       TA           No   \n",
      "6       186.0        Gd        TA      PConc       Ex       TA           Av   \n",
      "7       240.0        TA        TA     CBlock       Gd       TA           Mn   \n",
      "8         0.0        TA        TA     BrkTil       TA       TA           No   \n",
      "9         0.0        TA        TA     BrkTil       TA       TA           No   \n",
      "\n",
      "  BsmtFinType1  BsmtFinSF1 BsmtFinType2  BsmtFinSF2  BsmtUnfSF  TotalBsmtSF  \\\n",
      "0          GLQ         706          Unf           0        150          856   \n",
      "1          ALQ         978          Unf           0        284         1262   \n",
      "2          GLQ         486          Unf           0        434          920   \n",
      "3          ALQ         216          Unf           0        540          756   \n",
      "4          GLQ         655          Unf           0        490         1145   \n",
      "5          GLQ         732          Unf           0         64          796   \n",
      "6          GLQ        1369          Unf           0        317         1686   \n",
      "7          ALQ         859          BLQ          32        216         1107   \n",
      "8          Unf           0          Unf           0        952          952   \n",
      "9          GLQ         851          Unf           0        140          991   \n",
      "\n",
      "  Heating HeatingQC CentralAir Electrical  1stFlrSF  2ndFlrSF  LowQualFinSF  \\\n",
      "0    GasA        Ex          Y      SBrkr       856       854             0   \n",
      "1    GasA        Ex          Y      SBrkr      1262         0             0   \n",
      "2    GasA        Ex          Y      SBrkr       920       866             0   \n",
      "3    GasA        Gd          Y      SBrkr       961       756             0   \n",
      "4    GasA        Ex          Y      SBrkr      1145      1053             0   \n",
      "5    GasA        Ex          Y      SBrkr       796       566             0   \n",
      "6    GasA        Ex          Y      SBrkr      1694         0             0   \n",
      "7    GasA        Ex          Y      SBrkr      1107       983             0   \n",
      "8    GasA        Gd          Y      FuseF      1022       752             0   \n",
      "9    GasA        Ex          Y      SBrkr      1077         0             0   \n",
      "\n",
      "   GrLivArea  BsmtFullBath  BsmtHalfBath  FullBath  HalfBath  BedroomAbvGr  \\\n",
      "0       1710             1             0         2         1             3   \n",
      "1       1262             0             1         2         0             3   \n",
      "2       1786             1             0         2         1             3   \n",
      "3       1717             1             0         1         0             3   \n",
      "4       2198             1             0         2         1             4   \n",
      "5       1362             1             0         1         1             1   \n",
      "6       1694             1             0         2         0             3   \n",
      "7       2090             1             0         2         1             3   \n",
      "8       1774             0             0         2         0             2   \n",
      "9       1077             1             0         1         0             2   \n",
      "\n",
      "   KitchenAbvGr KitchenQual  TotRmsAbvGrd Functional  Fireplaces FireplaceQu  \\\n",
      "0             1          Gd             8        Typ           0         NaN   \n",
      "1             1          TA             6        Typ           1          TA   \n",
      "2             1          Gd             6        Typ           1          TA   \n",
      "3             1          Gd             7        Typ           1          Gd   \n",
      "4             1          Gd             9        Typ           1          TA   \n",
      "5             1          TA             5        Typ           0         NaN   \n",
      "6             1          Gd             7        Typ           1          Gd   \n",
      "7             1          TA             7        Typ           2          TA   \n",
      "8             2          TA             8       Min1           2          TA   \n",
      "9             2          TA             5        Typ           2          TA   \n",
      "\n",
      "  GarageType  GarageYrBlt GarageFinish  GarageCars  GarageArea GarageQual  \\\n",
      "0     Attchd       2003.0          RFn           2         548         TA   \n",
      "1     Attchd       1976.0          RFn           2         460         TA   \n",
      "2     Attchd       2001.0          RFn           2         608         TA   \n",
      "3     Detchd       1998.0          Unf           3         642         TA   \n",
      "4     Attchd       2000.0          RFn           3         836         TA   \n",
      "5     Attchd       1993.0          Unf           2         480         TA   \n",
      "6     Attchd       2004.0          RFn           2         636         TA   \n",
      "7     Attchd       1973.0          RFn           2         484         TA   \n",
      "8     Detchd       1931.0          Unf           2         468         Fa   \n",
      "9     Attchd       1939.0          RFn           1         205         Gd   \n",
      "\n",
      "  GarageCond PavedDrive  WoodDeckSF  OpenPorchSF  EnclosedPorch  3SsnPorch  \\\n",
      "0         TA          Y           0           61              0          0   \n",
      "1         TA          Y         298            0              0          0   \n",
      "2         TA          Y           0           42              0          0   \n",
      "3         TA          Y           0           35            272          0   \n",
      "4         TA          Y         192           84              0          0   \n",
      "5         TA          Y          40           30              0        320   \n",
      "6         TA          Y         255           57              0          0   \n",
      "7         TA          Y         235          204            228          0   \n",
      "8         TA          Y          90            0            205          0   \n",
      "9         TA          Y           0            4              0          0   \n",
      "\n",
      "   ScreenPorch  PoolArea PoolQC  Fence MiscFeature  MiscVal  MoSold  YrSold  \\\n",
      "0            0         0    NaN    NaN         NaN        0       2    2008   \n",
      "1            0         0    NaN    NaN         NaN        0       5    2007   \n",
      "2            0         0    NaN    NaN         NaN        0       9    2008   \n",
      "3            0         0    NaN    NaN         NaN        0       2    2006   \n",
      "4            0         0    NaN    NaN         NaN        0      12    2008   \n",
      "5            0         0    NaN  MnPrv        Shed      700      10    2009   \n",
      "6            0         0    NaN    NaN         NaN        0       8    2007   \n",
      "7            0         0    NaN    NaN        Shed      350      11    2009   \n",
      "8            0         0    NaN    NaN         NaN        0       4    2008   \n",
      "9            0         0    NaN    NaN         NaN        0       1    2008   \n",
      "\n",
      "  SaleType SaleCondition  SalePrice  \n",
      "0       WD        Normal     208500  \n",
      "1       WD        Normal     181500  \n",
      "2       WD        Normal     223500  \n",
      "3       WD       Abnorml     140000  \n",
      "4       WD        Normal     250000  \n",
      "5       WD        Normal     143000  \n",
      "6       WD        Normal     307000  \n",
      "7       WD        Normal     200000  \n",
      "8       WD       Abnorml     129900  \n",
      "9       WD        Normal     118000  \n"
     ]
    }
   ],
   "source": [
    "# Load the dataset\n",
    "data = pd.read_csv('data/train.csv')\n",
    "\n",
    "# Display all columns in the DataFrame\n",
    "pd.set_option('display.max_columns', None)\n",
    "\n",
    "# Display the first 10 rows\n",
    "print(\"First 10 rows of the dataset:\")\n",
    "print(data.head(10))"
   ]
  },
  {
   "cell_type": "code",
   "execution_count": 19,
   "id": "e6c68869",
   "metadata": {},
   "outputs": [
    {
     "name": "stdout",
     "output_type": "stream",
     "text": [
      "Id                 int64\n",
      "MSSubClass         int64\n",
      "MSZoning          object\n",
      "LotFrontage      float64\n",
      "LotArea            int64\n",
      "                  ...   \n",
      "MoSold             int64\n",
      "YrSold             int64\n",
      "SaleType          object\n",
      "SaleCondition     object\n",
      "SalePrice          int64\n",
      "Length: 81, dtype: object\n"
     ]
    }
   ],
   "source": [
    "print(data.dtypes)"
   ]
  },
  {
   "cell_type": "code",
   "execution_count": 20,
   "id": "54df8d1a",
   "metadata": {},
   "outputs": [
    {
     "name": "stdout",
     "output_type": "stream",
     "text": [
      "Columns with missing data:\n",
      "LotFrontage      259\n",
      "Alley           1369\n",
      "MasVnrType       872\n",
      "MasVnrArea         8\n",
      "BsmtQual          37\n",
      "BsmtCond          37\n",
      "BsmtExposure      38\n",
      "BsmtFinType1      37\n",
      "BsmtFinType2      38\n",
      "Electrical         1\n",
      "FireplaceQu      690\n",
      "GarageType        81\n",
      "GarageYrBlt       81\n",
      "GarageFinish      81\n",
      "GarageQual        81\n",
      "GarageCond        81\n",
      "PoolQC          1453\n",
      "Fence           1179\n",
      "MiscFeature     1406\n",
      "dtype: int64\n"
     ]
    }
   ],
   "source": [
    "# Display columns with missing data\n",
    "missing_data = data.isnull().sum()\n",
    "missing_columns = missing_data[missing_data > 0]\n",
    "print(\"Columns with missing data:\")\n",
    "print(missing_columns)"
   ]
  },
  {
   "cell_type": "code",
   "execution_count": 21,
   "id": "e6fc5f85",
   "metadata": {},
   "outputs": [
    {
     "name": "stdout",
     "output_type": "stream",
     "text": [
      "\n",
      "Summary statistics of the dataset:\n",
      "                Id   MSSubClass  LotFrontage        LotArea  OverallQual  \\\n",
      "count  1460.000000  1460.000000  1201.000000    1460.000000  1460.000000   \n",
      "mean    730.500000    56.897260    70.049958   10516.828082     6.099315   \n",
      "std     421.610009    42.300571    24.284752    9981.264932     1.382997   \n",
      "min       1.000000    20.000000    21.000000    1300.000000     1.000000   \n",
      "25%     365.750000    20.000000    59.000000    7553.500000     5.000000   \n",
      "50%     730.500000    50.000000    69.000000    9478.500000     6.000000   \n",
      "75%    1095.250000    70.000000    80.000000   11601.500000     7.000000   \n",
      "max    1460.000000   190.000000   313.000000  215245.000000    10.000000   \n",
      "\n",
      "       OverallCond    YearBuilt  YearRemodAdd   MasVnrArea   BsmtFinSF1  \\\n",
      "count  1460.000000  1460.000000   1460.000000  1452.000000  1460.000000   \n",
      "mean      5.575342  1971.267808   1984.865753   103.685262   443.639726   \n",
      "std       1.112799    30.202904     20.645407   181.066207   456.098091   \n",
      "min       1.000000  1872.000000   1950.000000     0.000000     0.000000   \n",
      "25%       5.000000  1954.000000   1967.000000     0.000000     0.000000   \n",
      "50%       5.000000  1973.000000   1994.000000     0.000000   383.500000   \n",
      "75%       6.000000  2000.000000   2004.000000   166.000000   712.250000   \n",
      "max       9.000000  2010.000000   2010.000000  1600.000000  5644.000000   \n",
      "\n",
      "        BsmtFinSF2    BsmtUnfSF  TotalBsmtSF     1stFlrSF     2ndFlrSF  \\\n",
      "count  1460.000000  1460.000000  1460.000000  1460.000000  1460.000000   \n",
      "mean     46.549315   567.240411  1057.429452  1162.626712   346.992466   \n",
      "std     161.319273   441.866955   438.705324   386.587738   436.528436   \n",
      "min       0.000000     0.000000     0.000000   334.000000     0.000000   \n",
      "25%       0.000000   223.000000   795.750000   882.000000     0.000000   \n",
      "50%       0.000000   477.500000   991.500000  1087.000000     0.000000   \n",
      "75%       0.000000   808.000000  1298.250000  1391.250000   728.000000   \n",
      "max    1474.000000  2336.000000  6110.000000  4692.000000  2065.000000   \n",
      "\n",
      "       LowQualFinSF    GrLivArea  BsmtFullBath  BsmtHalfBath     FullBath  \\\n",
      "count   1460.000000  1460.000000   1460.000000   1460.000000  1460.000000   \n",
      "mean       5.844521  1515.463699      0.425342      0.057534     1.565068   \n",
      "std       48.623081   525.480383      0.518911      0.238753     0.550916   \n",
      "min        0.000000   334.000000      0.000000      0.000000     0.000000   \n",
      "25%        0.000000  1129.500000      0.000000      0.000000     1.000000   \n",
      "50%        0.000000  1464.000000      0.000000      0.000000     2.000000   \n",
      "75%        0.000000  1776.750000      1.000000      0.000000     2.000000   \n",
      "max      572.000000  5642.000000      3.000000      2.000000     3.000000   \n",
      "\n",
      "          HalfBath  BedroomAbvGr  KitchenAbvGr  TotRmsAbvGrd   Fireplaces  \\\n",
      "count  1460.000000   1460.000000   1460.000000   1460.000000  1460.000000   \n",
      "mean      0.382877      2.866438      1.046575      6.517808     0.613014   \n",
      "std       0.502885      0.815778      0.220338      1.625393     0.644666   \n",
      "min       0.000000      0.000000      0.000000      2.000000     0.000000   \n",
      "25%       0.000000      2.000000      1.000000      5.000000     0.000000   \n",
      "50%       0.000000      3.000000      1.000000      6.000000     1.000000   \n",
      "75%       1.000000      3.000000      1.000000      7.000000     1.000000   \n",
      "max       2.000000      8.000000      3.000000     14.000000     3.000000   \n",
      "\n",
      "       GarageYrBlt   GarageCars   GarageArea   WoodDeckSF  OpenPorchSF  \\\n",
      "count  1379.000000  1460.000000  1460.000000  1460.000000  1460.000000   \n",
      "mean   1978.506164     1.767123   472.980137    94.244521    46.660274   \n",
      "std      24.689725     0.747315   213.804841   125.338794    66.256028   \n",
      "min    1900.000000     0.000000     0.000000     0.000000     0.000000   \n",
      "25%    1961.000000     1.000000   334.500000     0.000000     0.000000   \n",
      "50%    1980.000000     2.000000   480.000000     0.000000    25.000000   \n",
      "75%    2002.000000     2.000000   576.000000   168.000000    68.000000   \n",
      "max    2010.000000     4.000000  1418.000000   857.000000   547.000000   \n",
      "\n",
      "       EnclosedPorch    3SsnPorch  ScreenPorch     PoolArea       MiscVal  \\\n",
      "count    1460.000000  1460.000000  1460.000000  1460.000000   1460.000000   \n",
      "mean       21.954110     3.409589    15.060959     2.758904     43.489041   \n",
      "std        61.119149    29.317331    55.757415    40.177307    496.123024   \n",
      "min         0.000000     0.000000     0.000000     0.000000      0.000000   \n",
      "25%         0.000000     0.000000     0.000000     0.000000      0.000000   \n",
      "50%         0.000000     0.000000     0.000000     0.000000      0.000000   \n",
      "75%         0.000000     0.000000     0.000000     0.000000      0.000000   \n",
      "max       552.000000   508.000000   480.000000   738.000000  15500.000000   \n",
      "\n",
      "            MoSold       YrSold      SalePrice  \n",
      "count  1460.000000  1460.000000    1460.000000  \n",
      "mean      6.321918  2007.815753  180921.195890  \n",
      "std       2.703626     1.328095   79442.502883  \n",
      "min       1.000000  2006.000000   34900.000000  \n",
      "25%       5.000000  2007.000000  129975.000000  \n",
      "50%       6.000000  2008.000000  163000.000000  \n",
      "75%       8.000000  2009.000000  214000.000000  \n",
      "max      12.000000  2010.000000  755000.000000  \n"
     ]
    }
   ],
   "source": [
    "# Display summary statistics\n",
    "print(\"\\nSummary statistics of the dataset:\")\n",
    "print(data.describe())"
   ]
  },
  {
   "cell_type": "markdown",
   "id": "c8306a79",
   "metadata": {},
   "source": [
    "### **Dataset Observations:**\n",
    "\n",
    "The dataset contains real estate data related to housing prices.\n",
    "\n",
    "*General Structure:*\n",
    "\n",
    "- The dataset contains a mix of numerical and categorical columns.\n",
    "- The target variable seems to be SalePrice, which represents the price of a house.\n",
    "\n",
    "*Columns with Missing Data:*\n",
    "\n",
    "- Some columns, such as Alley, FireplaceQu, PoolQC, Fence, and MiscFeature, have missing values (NaN).\n",
    "- These columns may require imputation or removal depending on their importance.\n",
    "\n",
    "*Features:*\n",
    "\n",
    "- Numerical Features: Examples include LotFrontage, LotArea, YearBuilt, GrLivArea, and SalePrice.\n",
    "- Categorical Features: Examples include MSZoning, Street, LotShape, and Neighborhood.\n",
    "\n",
    "*Potential Relationships:*\n",
    "\n",
    "- Features like GrLivArea, OverallQual, and YearBuilt might have a strong correlation with SalePrice.\n",
    "- Categorical features like Neighborhood and MSZoning could also influence housing prices.\n",
    "\n",
    "*Outliers and Anomalies:*\n",
    "\n",
    "- Some columns, such as LotFrontage, have missing values in certain rows.\n",
    "- Columns like GarageYrBlt have numerical values but may need special handling for missing data.\n",
    "\n",
    "*Target Variable:*\n",
    "\n",
    "- SalePrice is the target variable for regression analysis."
   ]
  },
  {
   "cell_type": "markdown",
   "id": "372f3b6c",
   "metadata": {},
   "source": [
    "## Section 2. Data Exploration and Preparation\n",
    "### 2.1 Explore data patterns and distributions\n",
    "- Create histograms, boxplots, and count plots for categorical variables (as applicable).\n",
    "- Identify patterns, outliers, and anomalies in feature distributions.\n",
    "- Check for class imbalance in the target variable (as applicable).\n"
   ]
  },
  {
   "cell_type": "markdown",
   "id": "9f4e69fb",
   "metadata": {},
   "source": [
    "### 2.2 Handle missing values and clean data\n",
    "- Impute or drop missing values (as applicable).\n",
    "- Remove or transform outliers (as applicable).\n",
    "- Convert categorical data to numerical format using encoding (as applicable).\n"
   ]
  },
  {
   "cell_type": "markdown",
   "id": "eb67f480",
   "metadata": {},
   "source": [
    "### 2.3 Feature selection and engineering\n",
    "- Create new features (as applicable).\n",
    "- Transform or combine existing features to improve model performance (as applicable).\n",
    "- Scale or normalize data (as applicable).\n"
   ]
  },
  {
   "cell_type": "markdown",
   "id": "8cf3f7a9",
   "metadata": {},
   "source": [
    "### Reflection 2: What patterns or anomalies do you see? Do any features stand out? What preprocessing steps were necessary to clean and improve the data? Did you create or modify any features to improve performance?"
   ]
  },
  {
   "cell_type": "markdown",
   "id": "cdd0f3a8",
   "metadata": {},
   "source": [
    "## Section 3. Feature Selection and Justification\n",
    "### 3.1 Choose features and target\n",
    "- Select two or more input features (numerical for regression, numerical and/or categorical for classification)\n",
    "- Select a target variable (as applicable)\n",
    "- Regression: Continuous target variable (e.g., price, temperature).\n",
    "- Classification: Categorical target variable (e.g., gender, species).\n",
    "- Clustering: No target variable.\n",
    "- Justify your selection with reasoning.\n"
   ]
  },
  {
   "cell_type": "markdown",
   "id": "fb121546",
   "metadata": {},
   "source": [
    "### 3.2 Define X and y\n",
    "- Assign input features to X\n",
    "- Assign target variable to y (as applicable)\n"
   ]
  },
  {
   "cell_type": "markdown",
   "id": "b6251b8a",
   "metadata": {},
   "source": [
    "### Reflection 3: Why did you choose these features? How might they impact predictions or accuracy?"
   ]
  },
  {
   "cell_type": "markdown",
   "id": "adacca1f",
   "metadata": {},
   "source": [
    "## Section 4. Train a Model (Linear Regression)\n",
    "### 4.1 Split the data into training and test sets using train_test_split (or StratifiedShuffleSplit if class imbalance is an issue).\n"
   ]
  },
  {
   "cell_type": "markdown",
   "id": "93063768",
   "metadata": {},
   "source": [
    "### 4.2 Train model using Scikit-Learn model.fit() method\n"
   ]
  },
  {
   "cell_type": "markdown",
   "id": "0dfbe4f5",
   "metadata": {},
   "source": [
    "### 4.3 Evalulate performance, for example:\n",
    "- Regression: R^2, MAE, RMSE (RMSE has been recently updated)\n",
    "- Classification: Accuracy, Precision, Recall, F1-score, Confusion Matrix\n",
    "- Clustering: Inertia, Silhouette Score"
   ]
  },
  {
   "cell_type": "markdown",
   "id": "3276380c",
   "metadata": {},
   "source": [
    "### Reflection 4: How well did the model perform? Any surprises in the results?"
   ]
  },
  {
   "cell_type": "markdown",
   "id": "014b69b1",
   "metadata": {},
   "source": [
    "## Section 5. Improve the Model or Try Alternates (Implement Pipelines)\n",
    "### 5.1 Implement Pipeline 1: Imputer → StandardScaler → Linear Regression.\n"
   ]
  },
  {
   "cell_type": "markdown",
   "id": "617ad27b",
   "metadata": {},
   "source": [
    "### 5.2 Implement Pipeline 2: Imputer → Polynomial Features (degree=3) → StandardScaler → Linear Regression.\n"
   ]
  },
  {
   "cell_type": "markdown",
   "id": "d93171ab",
   "metadata": {},
   "source": [
    "### 5.3 Compare performance of all models across the same performance metrics\n"
   ]
  },
  {
   "cell_type": "markdown",
   "id": "9e3d9411",
   "metadata": {},
   "source": [
    "### Reflection 5: Which models performed better? How does scaling impact results?"
   ]
  },
  {
   "cell_type": "markdown",
   "id": "a4808984",
   "metadata": {},
   "source": [
    "## Section 6. Final Thoughts & Insights\n",
    "### 6.1 Summarize findings.\n"
   ]
  },
  {
   "cell_type": "markdown",
   "id": "2e4facb2",
   "metadata": {},
   "source": [
    "### 6.2 Discuss challenges faced.\n"
   ]
  },
  {
   "cell_type": "markdown",
   "id": "7502addc",
   "metadata": {},
   "source": [
    "### 6.3 If you had more time, what would you try next?\n"
   ]
  },
  {
   "cell_type": "markdown",
   "id": "a63f0477",
   "metadata": {},
   "source": [
    "### Reflection 6: What did you learn from this project?"
   ]
  }
 ],
 "metadata": {
  "kernelspec": {
   "display_name": ".venv",
   "language": "python",
   "name": "python3"
  },
  "language_info": {
   "codemirror_mode": {
    "name": "ipython",
    "version": 3
   },
   "file_extension": ".py",
   "mimetype": "text/x-python",
   "name": "python",
   "nbconvert_exporter": "python",
   "pygments_lexer": "ipython3",
   "version": "3.11.4"
  }
 },
 "nbformat": 4,
 "nbformat_minor": 5
}

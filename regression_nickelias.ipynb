{
 "cells": [
  {
   "cell_type": "markdown",
   "id": "24c24776",
   "metadata": {},
   "source": [
    "### Applied Machine Learning Midterm Project\n",
    "### Nick Elias\n",
    "\n",
    "* CSIS 44670-81\n",
    "* Date: 4/18/2025"
   ]
  },
  {
   "cell_type": "markdown",
   "id": "242325b5",
   "metadata": {},
   "source": [
    "### Overview\n",
    "\n",
    "- Businesses and organizations often need to understand the relationships between different factors to make better decisions.  \n",
    "    - For example, a company may want to predict the fuel efficiency of a car based on its weight and engine size or estimate home prices based on square footage and location.  \n",
    "- Regression analysis helps identify and quantify these relationships between numerical features, providing insights that can be used for forecasting and decision-making.  \n",
    "\n",
    "This project demonstrates your ability to apply regression modeling techniques to a real-world dataset. You will:  \n",
    "- Load and explore a dataset.  \n",
    "- Choose and justify features for predicting a target variable.  \n",
    "- Train a regression model and evaluate performance.  \n",
    "- Compare multiple regression approaches.  \n",
    "- Document your work in a structured Jupyter Notebook.  \n",
    "- Conduct a peer review of a classmate's project.  "
   ]
  },
  {
   "cell_type": "markdown",
   "id": "1fccc959",
   "metadata": {},
   "source": [
    "# Introduction"
   ]
  },
  {
   "cell_type": "code",
   "execution_count": null,
   "id": "ec77d972",
   "metadata": {},
   "outputs": [],
   "source": [
    "# Standard libraries\n",
    "import os\n",
    "import pandas as pd\n",
    "\n",
    "# Visualization\n",
    "import matplotlib.pyplot as plt\n",
    "import seaborn as sns\n",
    "\n",
    "# Machine Learning - Preprocessing\n",
    "from sklearn.preprocessing import (\n",
    "    OneHotEncoder,\n",
    "    OrdinalEncoder\n",
    ")\n",
    "\n",
    "# Machine Learning - Model Selection\n",
    "from sklearn.model_selection import (\n",
    "    train_test_split,\n",
    "    cross_val_score\n",
    ")\n",
    "\n",
    "# Machine Learning - Models\n",
    "from sklearn.ensemble import RandomForestClassifier\n",
    "from sklearn.tree import (\n",
    "    DecisionTreeClassifier,\n",
    "    plot_tree\n",
    ")\n",
    "\n",
    "# Machine Learning - Metrics\n",
    "from sklearn.metrics import (\n",
    "    accuracy_score,\n",
    "    precision_score,\n",
    "    recall_score,\n",
    "    f1_score,\n",
    "    confusion_matrix,\n",
    "    ConfusionMatrixDisplay,\n",
    "    classification_report\n",
    ")"
   ]
  },
  {
   "cell_type": "markdown",
   "id": "a0105809",
   "metadata": {},
   "source": [
    "Section 1. Import and Inspect the Data\n",
    "1.1 Load the dataset and display the first 10 rows.\n",
    "1.2 Check for missing values and display summary statistics.\n",
    "Reflection 1: What do you notice about the dataset? Are there any data issues?"
   ]
  },
  {
   "cell_type": "code",
   "execution_count": null,
   "id": "9acab14e",
   "metadata": {},
   "outputs": [],
   "source": [
    "# Load the dataset\n",
    "data = pd.read_csv('data/train.csv')\n",
    "\n",
    "# Display all columns in the DataFrame\n",
    "pd.set_option('display.max_columns', None)\n",
    "\n",
    "# Display the first 10 rows\n",
    "print(\"First 10 rows of the dataset:\")\n",
    "print(data.head(10))"
   ]
  },
  {
   "cell_type": "code",
   "execution_count": null,
   "id": "e6c68869",
   "metadata": {},
   "outputs": [],
   "source": [
    "# Ensure all columns are displayed without truncation\n",
    "pd.set_option('display.max_columns', None)\n",
    "pd.set_option('display.width', None)  # Adjusts the width to avoid wrapping\n",
    "pd.set_option('display.max_colwidth', None)  # Ensures full content of each column is shown\n",
    "\n",
    "# Display column names and their data types\n",
    "print(\"Column names and their data types:\")\n",
    "print(data.dtypes)"
   ]
  },
  {
   "cell_type": "code",
   "execution_count": null,
   "id": "54df8d1a",
   "metadata": {},
   "outputs": [],
   "source": [
    "# Display columns with missing data\n",
    "missing_data = data.isnull().sum()\n",
    "missing_columns = missing_data[missing_data > 0]\n",
    "print(\"Columns with missing data:\")\n",
    "print(missing_columns)"
   ]
  },
  {
   "cell_type": "code",
   "execution_count": null,
   "id": "e6fc5f85",
   "metadata": {},
   "outputs": [],
   "source": [
    "# Display summary statistics\n",
    "print(\"\\nSummary statistics of the dataset:\")\n",
    "print(data.describe())"
   ]
  },
  {
   "cell_type": "markdown",
   "id": "c8306a79",
   "metadata": {},
   "source": [
    "### **Dataset Observations:**\n",
    "\n",
    "The dataset contains real estate data related to housing prices.\n",
    "\n",
    "*General Structure:*\n",
    "\n",
    "- The dataset contains a mix of numerical and categorical columns.\n",
    "- The target variable seems to be SalePrice, which represents the price of a house.\n",
    "\n",
    "*Columns with Missing Data:*\n",
    "\n",
    "- Some columns, such as Alley, FireplaceQu, PoolQC, Fence, and MiscFeature, have missing values (NaN).\n",
    "- These columns may require imputation or removal depending on their importance.\n",
    "\n",
    "*Features:*\n",
    "\n",
    "- Numerical Features: Examples include LotFrontage, LotArea, YearBuilt, GrLivArea, and SalePrice.\n",
    "- Categorical Features: Examples include MSZoning, Street, LotShape, and Neighborhood.\n",
    "\n",
    "*Potential Relationships:*\n",
    "\n",
    "- Features like GrLivArea, OverallQual, and YearBuilt might have a strong correlation with SalePrice.\n",
    "- Categorical features like Neighborhood and MSZoning could also influence housing prices.\n",
    "\n",
    "*Outliers and Anomalies:*\n",
    "\n",
    "- Some columns, such as LotFrontage, have missing values in certain rows.\n",
    "- Columns like GarageYrBlt have numerical values but may need special handling for missing data.\n",
    "\n",
    "*Target Variable:*\n",
    "\n",
    "- SalePrice is the target variable for regression analysis."
   ]
  },
  {
   "cell_type": "markdown",
   "id": "372f3b6c",
   "metadata": {},
   "source": [
    "## Section 2. Data Exploration and Preparation\n",
    "### 2.1 Explore data patterns and distributions\n",
    "- Create histograms, boxplots, and count plots for categorical variables (as applicable).\n",
    "- Identify patterns, outliers, and anomalies in feature distributions.\n",
    "- Check for class imbalance in the target variable (as applicable)."
   ]
  },
  {
   "cell_type": "code",
   "execution_count": null,
   "id": "7c7c8090",
   "metadata": {},
   "outputs": [],
   "source": [
    "# Define the mapping for MSSubClass\n",
    "mssubclass_mapping = {\n",
    "    20: \"1-STORY 1946 & NEWER\",\n",
    "    30: \"1-STORY 1945 & OLDER\",\n",
    "    40: \"1-STORY W/FINISHED ATTIC\",\n",
    "    45: \"1-1/2 STORY - UNFINISHED\",\n",
    "    50: \"1-1/2 STORY FINISHED\",\n",
    "    60: \"2-STORY 1946 & NEWER\",\n",
    "    70: \"2-STORY 1945 & OLDER\",\n",
    "    75: \"2-1/2 STORY ALL AGES\",\n",
    "    80: \"SPLIT OR MULTI-LEVEL\",\n",
    "    85: \"SPLIT FOYER\",\n",
    "    90: \"DUPLEX - ALL STYLES\",\n",
    "    120: \"1-STORY PUD 1946 & NEWER\",\n",
    "    150: \"1-1/2 STORY PUD\",\n",
    "    160: \"2-STORY PUD 1946 & NEWER\",\n",
    "    180: \"PUD - MULTILEVEL\",\n",
    "    190: \"2 FAMILY CONVERSION\"\n",
    "}\n",
    "\n",
    "# Apply the mapping to the MSSubClass column\n",
    "data['MSSubClassMapped'] = data['MSSubClass'].map(mssubclass_mapping)\n",
    "\n",
    "# Display unique values in MSSubClass and their mapped names\n",
    "print(\"Unique values in MSSubClass:\")\n",
    "print(data['MSSubClass'].unique())\n",
    "\n",
    "print(\"\\nUnique mapped values in MSSubClassMapped:\")\n",
    "print(data['MSSubClassMapped'].unique())"
   ]
  },
  {
   "cell_type": "code",
   "execution_count": null,
   "id": "11d5e28f",
   "metadata": {},
   "outputs": [],
   "source": [
    "# Scatterplots for numerical variables\n",
    "numerical_vars = ['GrLivArea', 'YearBuilt']\n",
    "for var in numerical_vars:\n",
    "    plt.figure(figsize=(8, 6))\n",
    "    sns.scatterplot(x=var, y='SalePrice', data=data)\n",
    "    plt.title(f'{var} vs SalePrice')\n",
    "    plt.xlabel(var)\n",
    "    plt.ylabel('SalePrice')\n",
    "    plt.grid(alpha=0.3)\n",
    "    plt.show()"
   ]
  },
  {
   "cell_type": "code",
   "execution_count": null,
   "id": "a9b2cb3b",
   "metadata": {},
   "outputs": [],
   "source": [
    "# Boxplots for categorical variables\n",
    "categorical_vars = ['MSSubClassMapped', 'Neighborhood', 'GarageType','OverallQual']\n",
    "for var in categorical_vars:\n",
    "    plt.figure(figsize=(12, 6))\n",
    "    sns.boxplot(x=var, y='SalePrice', data=data)\n",
    "    plt.title(f'{var} vs SalePrice')\n",
    "    plt.xlabel(var)\n",
    "    plt.ylabel('SalePrice')\n",
    "    plt.xticks(rotation=45)  # Rotate x-axis labels for better readability\n",
    "    plt.show()"
   ]
  },
  {
   "cell_type": "markdown",
   "id": "ff047b7b",
   "metadata": {},
   "source": [
    "### *Patterns, outliers, and anomalies*"
   ]
  },
  {
   "cell_type": "markdown",
   "id": "768ae40e",
   "metadata": {},
   "source": [
    "### Observations on Variables\n",
    "\n",
    "**'GrLivArea'**\n",
    "- **Pattern:** Positive linear relationship with `SalePrice`.\n",
    "- **Outliers:**\n",
    "    - Only 4 listings exceed 4000 sqft.\n",
    "    - The largest listing (over 4000 sqft) is surprisingly cheap, priced under $200k.\n",
    "- **Anomalies:** None identified.\n",
    "\n",
    "**'OverallQual'**\n",
    "- **Pattern:** Positive linear relationship; better quality correlates with higher `SalePrice`.\n",
    "- **Outliers:**\n",
    "    - Quality score 4 has one outlier priced about $75k higher than other listings.\n",
    "- **Anomalies:** Higher quality scores exhibit greater variance. A box plot may help visualize this.\n",
    "\n",
    "**'YearBuilt'**\n",
    "- **Pattern:** No obvious correlation with `SalePrice`.\n",
    "- **Outliers:**\n",
    "    - A house built around 1890 is over $100k more expensive than the next most expensive.\n",
    "    - Some houses built in the 1990s are at least $200k more expensive than the next.\n",
    "- **Anomalies:** Unclear.\n",
    "\n",
    "**'MSSubClass'**\n",
    "- **Pattern:**\n",
    "    - \"2-Story 1946 & Newer\" has the highest maximum price and average price but also many outliers.\n",
    "    - \"1-Story PUD 1946 & Newer\" has the lowest average and minimum prices.\n",
    "    - Median distributions show little variance, suggesting it may not be a strong predictor.\n",
    "- **Outliers:**\n",
    "    - \"2-Story 1946 & Newer\" and \"1-Story 1946 & Newer\" have outliers above the plot.\n",
    "- **Anomalies:** Unclear.\n",
    "\n",
    "**'Neighborhood'**\n",
    "- **Pattern:** Significant variance in median `SalePrice`, indicating it might be a strong predictor.\n",
    "- **Outliers:**\n",
    "    - \"NoRidge\" has an average around $300k but outliers peak over $700k.\n",
    "- **Anomalies:** Unclear.\n",
    "\n",
    "**'GarageType'**\n",
    "- **Pattern:** Some variance in median `SalePrice` across categories.\n",
    "- **Outliers:**\n",
    "    - \"Attachd\" has many outliers above the plot.\n",
    "- **Anomalies:** Unclear.\n"
   ]
  },
  {
   "cell_type": "markdown",
   "id": "00384dbe",
   "metadata": {},
   "source": [
    "#### Class Inbalance Check\n",
    "First, checking the distribution of Target Variable SalePrice\n",
    "\n",
    "Then, checking distibution of 6 chosen attributes. Optional, but will benefit analysis"
   ]
  },
  {
   "cell_type": "code",
   "execution_count": null,
   "id": "27d77b51",
   "metadata": {},
   "outputs": [],
   "source": [
    "# Plot a histogram for the target variable\n",
    "data['SalePrice'].hist(bins=20, figsize=(8, 6))\n",
    "plt.title(\"Distribution of SalePrice\")\n",
    "plt.xlabel(\"SalePrice\")\n",
    "plt.ylabel(\"Frequency\")\n",
    "plt.grid(alpha=0.3)\n",
    "plt.show()"
   ]
  },
  {
   "cell_type": "markdown",
   "id": "5780a296",
   "metadata": {},
   "source": [
    "- The distribution of SalePrice is right-skewed (positively skewed), meaning most of the house prices are concentrated in the lower range (e.g., below $200,000), while fewer houses are in the higher price ranges.\n",
    "\n",
    "- There is a long tail extending toward higher prices, indicating a small number of expensive houses.\n",
    "\n",
    "- Models might struggle to predict higher-priced houses accurately because they are underrepresented in the data."
   ]
  },
  {
   "cell_type": "code",
   "execution_count": null,
   "id": "ee83f54b",
   "metadata": {},
   "outputs": [],
   "source": [
    "# OPTIONAL: Check class distribution for categorical variables\n",
    "categorical_vars = ['MSSubClassMapped', 'Neighborhood', 'GarageType']\n",
    "for var in categorical_vars:\n",
    "    print(f\"Class distribution for {var}:\")\n",
    "    print(data[var].value_counts(normalize=True) * 100)  # Display percentages\n",
    "    print(\"\\n\")"
   ]
  },
  {
   "cell_type": "code",
   "execution_count": null,
   "id": "416014d3",
   "metadata": {},
   "outputs": [],
   "source": [
    "# OPTIONAL: Plot histograms for numerical variables\n",
    "#numerical_vars = ['GrLivArea', 'OverallQual', 'YearBuilt']\n",
    "#for var in numerical_vars:\n",
    "#    data[var].hist(bins=20, figsize=(8, 6))\n",
    "#    plt.title(f\"Distribution of {var}\")\n",
    "#    plt.xlabel(var)\n",
    "#    plt.ylabel(\"Frequency\")\n",
    "#    plt.grid(alpha=0.3)\n",
    "#    plt.show()"
   ]
  },
  {
   "cell_type": "markdown",
   "id": "9f4e69fb",
   "metadata": {},
   "source": [
    "### 2.2 Handle missing values and clean data\n",
    "- Impute or drop missing values (as applicable).\n",
    "- Remove or transform outliers (as applicable).\n",
    "- Convert categorical data to numerical format using encoding (as applicable)."
   ]
  },
  {
   "cell_type": "code",
   "execution_count": null,
   "id": "d69faafb",
   "metadata": {},
   "outputs": [],
   "source": [
    "# List of your 6 chosen variables\n",
    "chosen_vars = ['GrLivArea', 'OverallQual', 'YearBuilt', 'MSSubClassMapped', 'Neighborhood', 'GarageType']\n",
    "\n",
    "# Check for missing values in the chosen variables\n",
    "missing_values = data[chosen_vars].isnull().sum()\n",
    "\n",
    "# Calculate the percentage of missing values\n",
    "total_records = len(data)\n",
    "missing_percentage = (missing_values / total_records) * 100\n",
    "\n",
    "# Combine the counts and percentages into a DataFrame for better readability\n",
    "missing_summary = pd.DataFrame({\n",
    "    'Missing Count': missing_values,\n",
    "    'Missing Percentage': missing_percentage\n",
    "})\n",
    "\n",
    "# Display the result\n",
    "print(\"Missing values in the chosen variables:\")\n",
    "print(missing_summary)"
   ]
  },
  {
   "cell_type": "markdown",
   "id": "57997832",
   "metadata": {},
   "source": [
    "There are clear visual outliers in the target variable (houses over $500k) and in the GrLivArea variable (values over 4000). Before we make changes, let's see how many records would be impacted:"
   ]
  },
  {
   "cell_type": "code",
   "execution_count": null,
   "id": "c5891410",
   "metadata": {},
   "outputs": [],
   "source": [
    "# Total number of records in the dataset\n",
    "total_records = len(data)\n",
    "\n",
    "# Count values where SalePrice > 500k\n",
    "saleprice_above_500k = data[data['SalePrice'] > 500000]\n",
    "count_saleprice_above_500k = len(saleprice_above_500k)\n",
    "percentage_saleprice_above_500k = (count_saleprice_above_500k / total_records) * 100\n",
    "\n",
    "# Count values where GrLivArea > 4000\n",
    "grlivarea_above_4000 = data[data['GrLivArea'] > 4000]\n",
    "count_grlivarea_above_4000 = len(grlivarea_above_4000)\n",
    "percentage_grlivarea_above_4000 = (count_grlivarea_above_4000 / total_records) * 100\n",
    "\n",
    "# Print results\n",
    "print(f\"Number of houses with SalePrice > 500k: {count_saleprice_above_500k} ({percentage_saleprice_above_500k:.2f}%)\")\n",
    "print(f\"Number of houses with GrLivArea > 4000: {count_grlivarea_above_4000} ({percentage_grlivarea_above_4000:.2f}%)\")"
   ]
  },
  {
   "cell_type": "markdown",
   "id": "9a2e22cc",
   "metadata": {},
   "source": [
    "These outlier records represent a very small portion of the total data. Let's remove them to reduce skew."
   ]
  },
  {
   "cell_type": "code",
   "execution_count": null,
   "id": "e356a1b3",
   "metadata": {},
   "outputs": [],
   "source": [
    "# Remove outliers where SalePrice > 500k or GrLivArea > 4000\n",
    "data_cleaned = data[(data['SalePrice'] <= 500000) & (data['GrLivArea'] <= 4000)]\n",
    "\n",
    "# Calculate the number of records removed\n",
    "records_removed = len(data) - len(data_cleaned)\n",
    "\n",
    "# Print the results\n",
    "print(f\"Original dataset size: {len(data)}\")\n",
    "print(f\"Cleaned dataset size: {len(data_cleaned)}\")\n",
    "print(f\"Number of records removed: {records_removed}\")"
   ]
  },
  {
   "cell_type": "markdown",
   "id": "eb67f480",
   "metadata": {},
   "source": [
    "### 2.3 Feature selection and engineering\n",
    "- Create new features (as applicable).\n",
    "- Transform or combine existing features to improve model performance (as applicable).\n",
    "- Scale or normalize data (as applicable).\n"
   ]
  },
  {
   "cell_type": "markdown",
   "id": "8cf3f7a9",
   "metadata": {},
   "source": [
    "### Reflection 2: What patterns or anomalies do you see? Do any features stand out? What preprocessing steps were necessary to clean and improve the data? Did you create or modify any features to improve performance?"
   ]
  },
  {
   "cell_type": "markdown",
   "id": "cdd0f3a8",
   "metadata": {},
   "source": [
    "## Section 3. Feature Selection and Justification\n",
    "### 3.1 Choose features and target\n",
    "- Select two or more input features (numerical for regression, numerical and/or categorical for classification)\n",
    "- Select a target variable (as applicable)\n",
    "- Regression: Continuous target variable (e.g., price, temperature).\n",
    "- Classification: Categorical target variable (e.g., gender, species).\n",
    "- Clustering: No target variable.\n",
    "- Justify your selection with reasoning.\n"
   ]
  },
  {
   "cell_type": "markdown",
   "id": "fb121546",
   "metadata": {},
   "source": [
    "### 3.2 Define X and y\n",
    "- Assign input features to X\n",
    "- Assign target variable to y (as applicable)\n"
   ]
  },
  {
   "cell_type": "markdown",
   "id": "b6251b8a",
   "metadata": {},
   "source": [
    "### Reflection 3: Why did you choose these features? How might they impact predictions or accuracy?"
   ]
  },
  {
   "cell_type": "markdown",
   "id": "adacca1f",
   "metadata": {},
   "source": [
    "## Section 4. Train a Model (Linear Regression)\n",
    "### 4.1 Split the data into training and test sets using train_test_split (or StratifiedShuffleSplit if class imbalance is an issue).\n"
   ]
  },
  {
   "cell_type": "markdown",
   "id": "93063768",
   "metadata": {},
   "source": [
    "### 4.2 Train model using Scikit-Learn model.fit() method\n"
   ]
  },
  {
   "cell_type": "markdown",
   "id": "0dfbe4f5",
   "metadata": {},
   "source": [
    "### 4.3 Evalulate performance, for example:\n",
    "- Regression: R^2, MAE, RMSE (RMSE has been recently updated)\n",
    "- Classification: Accuracy, Precision, Recall, F1-score, Confusion Matrix\n",
    "- Clustering: Inertia, Silhouette Score"
   ]
  },
  {
   "cell_type": "markdown",
   "id": "3276380c",
   "metadata": {},
   "source": [
    "### Reflection 4: How well did the model perform? Any surprises in the results?"
   ]
  },
  {
   "cell_type": "markdown",
   "id": "014b69b1",
   "metadata": {},
   "source": [
    "## Section 5. Improve the Model or Try Alternates (Implement Pipelines)\n",
    "### 5.1 Implement Pipeline 1: Imputer → StandardScaler → Linear Regression.\n"
   ]
  },
  {
   "cell_type": "markdown",
   "id": "617ad27b",
   "metadata": {},
   "source": [
    "### 5.2 Implement Pipeline 2: Imputer → Polynomial Features (degree=3) → StandardScaler → Linear Regression.\n"
   ]
  },
  {
   "cell_type": "markdown",
   "id": "d93171ab",
   "metadata": {},
   "source": [
    "### 5.3 Compare performance of all models across the same performance metrics\n"
   ]
  },
  {
   "cell_type": "markdown",
   "id": "9e3d9411",
   "metadata": {},
   "source": [
    "### Reflection 5: Which models performed better? How does scaling impact results?"
   ]
  },
  {
   "cell_type": "markdown",
   "id": "a4808984",
   "metadata": {},
   "source": [
    "## Section 6. Final Thoughts & Insights\n",
    "### 6.1 Summarize findings.\n"
   ]
  },
  {
   "cell_type": "markdown",
   "id": "2e4facb2",
   "metadata": {},
   "source": [
    "### 6.2 Discuss challenges faced.\n"
   ]
  },
  {
   "cell_type": "markdown",
   "id": "7502addc",
   "metadata": {},
   "source": [
    "### 6.3 If you had more time, what would you try next?\n"
   ]
  },
  {
   "cell_type": "markdown",
   "id": "a63f0477",
   "metadata": {},
   "source": [
    "### Reflection 6: What did you learn from this project?"
   ]
  }
 ],
 "metadata": {
  "kernelspec": {
   "display_name": ".venv",
   "language": "python",
   "name": "python3"
  },
  "language_info": {
   "codemirror_mode": {
    "name": "ipython",
    "version": 3
   },
   "file_extension": ".py",
   "mimetype": "text/x-python",
   "name": "python",
   "nbconvert_exporter": "python",
   "pygments_lexer": "ipython3",
   "version": "3.11.4"
  }
 },
 "nbformat": 4,
 "nbformat_minor": 5
}
